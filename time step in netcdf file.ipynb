{
 "metadata": {
  "name": "time step in netcdf file"
 },
 "nbformat": 3,
 "nbformat_minor": 0,
 "worksheets": [
  {
   "cells": [
    {
     "cell_type": "code",
     "collapsed": false,
     "input": [
      "cd ~/Simulations/Argon/Classic/OutputMD/"
     ],
     "language": "python",
     "metadata": {},
     "outputs": [
      {
       "output_type": "stream",
       "stream": "stdout",
       "text": [
        "/Users/guillaume/Simulations/Argon/Classic/OutputMD\n"
       ]
      }
     ],
     "prompt_number": 1
    },
    {
     "cell_type": "code",
     "collapsed": false,
     "input": [
      "from Scientific.IO.NetCDF import NetCDFFile"
     ],
     "language": "python",
     "metadata": {},
     "outputs": [],
     "prompt_number": 4
    },
    {
     "cell_type": "heading",
     "level": 3,
     "metadata": {},
     "source": [
      "Your current netcdf file"
     ]
    },
    {
     "cell_type": "code",
     "collapsed": false,
     "input": [
      "ncfile = NetCDFFile('argon_nvt_0_5ns.nc', 'a')"
     ],
     "language": "python",
     "metadata": {},
     "outputs": [],
     "prompt_number": 24
    },
    {
     "cell_type": "code",
     "collapsed": false,
     "input": [
      "ncfile.variables"
     ],
     "language": "python",
     "metadata": {},
     "outputs": [
      {
       "output_type": "pyout",
       "prompt_number": 59,
       "text": [
        "{'box_size': <NetCDFVariable at 0x1109c16a8>,\n",
        " 'configuration': <NetCDFVariable at 0x1109c1660>,\n",
        " 'description': <NetCDFVariable at 0x1109c1300>,\n",
        " 'kinetic_energy': <NetCDFVariable at 0x1109c14b0>,\n",
        " 'nose_energy': <NetCDFVariable at 0x1109c14f8>,\n",
        " 'potential_energy': <NetCDFVariable at 0x1109c1468>,\n",
        " 'pressure': <NetCDFVariable at 0x1109c15d0>,\n",
        " 'step': <NetCDFVariable at 0x1109c1390>,\n",
        " 'temperature': <NetCDFVariable at 0x1109c1540>,\n",
        " 'thermostat_coordinate': <NetCDFVariable at 0x1109c1588>,\n",
        " 'time': <NetCDFVariable at 0x1109c1420>}"
       ]
      }
     ],
     "prompt_number": 59
    },
    {
     "cell_type": "code",
     "collapsed": false,
     "input": [
      "time = ncfile.variables['time']"
     ],
     "language": "python",
     "metadata": {},
     "outputs": [],
     "prompt_number": 92
    },
    {
     "cell_type": "code",
     "collapsed": false,
     "input": [
      "time[0:5]"
     ],
     "language": "python",
     "metadata": {},
     "outputs": [
      {
       "output_type": "pyout",
       "prompt_number": 93,
       "text": [
        "array([ 0.        ,  0.05      ,  0.1       ,  0.15000001,  0.2       ], dtype=float32)"
       ]
      }
     ],
     "prompt_number": 93
    },
    {
     "cell_type": "code",
     "collapsed": false,
     "input": [
      "len(time)"
     ],
     "language": "python",
     "metadata": {},
     "outputs": [
      {
       "output_type": "pyout",
       "prompt_number": 94,
       "text": [
        "100002"
       ]
      }
     ],
     "prompt_number": 94
    },
    {
     "cell_type": "heading",
     "level": 3,
     "metadata": {},
     "source": [
      "Creation of a new netcdf file and modification of the time step variable"
     ]
    },
    {
     "cell_type": "code",
     "collapsed": false,
     "input": [
      "new_ncfile = NetCDFFile('new_file.nc', 'w')"
     ],
     "language": "python",
     "metadata": {},
     "outputs": [],
     "prompt_number": 85
    },
    {
     "cell_type": "heading",
     "level": 4,
     "metadata": {},
     "source": [
      "# dimension definition"
     ]
    },
    {
     "cell_type": "code",
     "collapsed": false,
     "input": [
      "dimtime = new_ncfile.createDimension('dimtime', len(time))"
     ],
     "language": "python",
     "metadata": {},
     "outputs": [],
     "prompt_number": 95
    },
    {
     "cell_type": "heading",
     "level": 4,
     "metadata": {},
     "source": [
      "# variable creation"
     ]
    },
    {
     "cell_type": "code",
     "collapsed": false,
     "input": [
      "new_time = new_ncfile.createVariable('time', 'f', ('dimtime',))"
     ],
     "language": "python",
     "metadata": {},
     "outputs": [],
     "prompt_number": 96
    },
    {
     "cell_type": "code",
     "collapsed": false,
     "input": [
      "new_time = time[:]*2 # let's say you want your time step multiplied by 2"
     ],
     "language": "python",
     "metadata": {},
     "outputs": [],
     "prompt_number": 98
    },
    {
     "cell_type": "code",
     "collapsed": false,
     "input": [
      "new_time[0:5]"
     ],
     "language": "python",
     "metadata": {},
     "outputs": [
      {
       "output_type": "pyout",
       "prompt_number": 99,
       "text": [
        "array([ 0.        ,  0.1       ,  0.2       ,  0.30000001,  0.40000001], dtype=float32)"
       ]
      }
     ],
     "prompt_number": 99
    },
    {
     "cell_type": "code",
     "collapsed": false,
     "input": [],
     "language": "python",
     "metadata": {},
     "outputs": []
    }
   ],
   "metadata": {}
  }
 ]
}