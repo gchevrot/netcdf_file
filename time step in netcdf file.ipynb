{
 "metadata": {
  "name": "time step in netcdf file"
 },
 "nbformat": 3,
 "nbformat_minor": 0,
 "worksheets": [
  {
   "cells": [
    {
     "cell_type": "code",
     "collapsed": false,
     "input": [
      "cd ~/Simulations/Argon/Classic/OutputMD/"
     ],
     "language": "python",
     "metadata": {},
     "outputs": [
      {
       "output_type": "stream",
       "stream": "stdout",
       "text": [
        "/Users/guillaume/Simulations/Argon/Classic/OutputMD\n"
       ]
      }
     ],
     "prompt_number": 2
    },
    {
     "cell_type": "code",
     "collapsed": false,
     "input": [
      "from Scientific.IO.NetCDF import NetCDFFile"
     ],
     "language": "python",
     "metadata": {},
     "outputs": [],
     "prompt_number": 3
    },
    {
     "cell_type": "heading",
     "level": 3,
     "metadata": {},
     "source": [
      "Your current netcdf file"
     ]
    },
    {
     "cell_type": "code",
     "collapsed": false,
     "input": [
      "ncfile = NetCDFFile('argon_nvt_0_5ns.nc', 'a')"
     ],
     "language": "python",
     "metadata": {},
     "outputs": [],
     "prompt_number": 4
    },
    {
     "cell_type": "code",
     "collapsed": false,
     "input": [
      "ncfile.variables"
     ],
     "language": "python",
     "metadata": {},
     "outputs": [
      {
       "output_type": "pyout",
       "prompt_number": 5,
       "text": [
        "{'box_size': <NetCDFVariable at 0x111992540>,\n",
        " 'configuration': <NetCDFVariable at 0x1119924b0>,\n",
        " 'description': <NetCDFVariable at 0x111990f18>,\n",
        " 'kinetic_energy': <NetCDFVariable at 0x111992348>,\n",
        " 'nose_energy': <NetCDFVariable at 0x111992390>,\n",
        " 'potential_energy': <NetCDFVariable at 0x111992300>,\n",
        " 'pressure': <NetCDFVariable at 0x111992468>,\n",
        " 'step': <NetCDFVariable at 0x111990a98>,\n",
        " 'temperature': <NetCDFVariable at 0x111992420>,\n",
        " 'thermostat_coordinate': <NetCDFVariable at 0x1119923d8>,\n",
        " 'time': <NetCDFVariable at 0x111992270>}"
       ]
      }
     ],
     "prompt_number": 5
    },
    {
     "cell_type": "code",
     "collapsed": false,
     "input": [
      "time = ncfile.variables['time']"
     ],
     "language": "python",
     "metadata": {},
     "outputs": [],
     "prompt_number": 6
    },
    {
     "cell_type": "code",
     "collapsed": false,
     "input": [
      "time[0:5]"
     ],
     "language": "python",
     "metadata": {},
     "outputs": [
      {
       "output_type": "pyout",
       "prompt_number": 7,
       "text": [
        "array([ 0.        ,  0.05      ,  0.1       ,  0.15000001,  0.2       ], dtype=float32)"
       ]
      }
     ],
     "prompt_number": 7
    },
    {
     "cell_type": "code",
     "collapsed": false,
     "input": [
      "len(time)"
     ],
     "language": "python",
     "metadata": {},
     "outputs": [
      {
       "output_type": "pyout",
       "prompt_number": 8,
       "text": [
        "100002"
       ]
      }
     ],
     "prompt_number": 8
    },
    {
     "cell_type": "heading",
     "level": 3,
     "metadata": {},
     "source": [
      "Creation of a new netcdf file and modification of the time step variable"
     ]
    },
    {
     "cell_type": "code",
     "collapsed": false,
     "input": [
      "new_ncfile = NetCDFFile('new_file.nc', 'w')"
     ],
     "language": "python",
     "metadata": {},
     "outputs": [],
     "prompt_number": 9
    },
    {
     "cell_type": "heading",
     "level": 4,
     "metadata": {},
     "source": [
      "# dimension definition"
     ]
    },
    {
     "cell_type": "code",
     "collapsed": false,
     "input": [
      "dimtime = new_ncfile.createDimension('dimtime', len(time))"
     ],
     "language": "python",
     "metadata": {},
     "outputs": [],
     "prompt_number": 10
    },
    {
     "cell_type": "heading",
     "level": 4,
     "metadata": {},
     "source": [
      "# variable creation"
     ]
    },
    {
     "cell_type": "code",
     "collapsed": false,
     "input": [
      "new_time = new_ncfile.createVariable('time', 'f', ('dimtime',))"
     ],
     "language": "python",
     "metadata": {},
     "outputs": [],
     "prompt_number": 11
    },
    {
     "cell_type": "code",
     "collapsed": false,
     "input": [
      "new_time = time[:]*2 # let's say you want your time step multiplied by 2"
     ],
     "language": "python",
     "metadata": {},
     "outputs": [],
     "prompt_number": 12
    },
    {
     "cell_type": "code",
     "collapsed": false,
     "input": [
      "new_time[0:5]"
     ],
     "language": "python",
     "metadata": {},
     "outputs": [
      {
       "output_type": "pyout",
       "prompt_number": 13,
       "text": [
        "array([ 0.        ,  0.1       ,  0.2       ,  0.30000001,  0.40000001], dtype=float32)"
       ]
      }
     ],
     "prompt_number": 13
    },
    {
     "cell_type": "heading",
     "level": 4,
     "metadata": {},
     "source": [
      "Note: Of course, you also have to copy the other variables (box_size, configuration, ...) in this new netcdf file"
     ]
    },
    {
     "cell_type": "code",
     "collapsed": false,
     "input": [
      "ncfile.close()"
     ],
     "language": "python",
     "metadata": {},
     "outputs": [],
     "prompt_number": 14
    },
    {
     "cell_type": "code",
     "collapsed": false,
     "input": [
      "new_ncfile.close()"
     ],
     "language": "python",
     "metadata": {},
     "outputs": [],
     "prompt_number": 15
    },
    {
     "cell_type": "code",
     "collapsed": false,
     "input": [],
     "language": "python",
     "metadata": {},
     "outputs": [],
     "prompt_number": 15
    }
   ],
   "metadata": {}
  }
 ]
}